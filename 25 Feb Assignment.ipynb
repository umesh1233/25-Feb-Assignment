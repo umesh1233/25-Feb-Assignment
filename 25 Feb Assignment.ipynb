{
 "cells": [
  {
   "cell_type": "code",
   "execution_count": 1,
   "id": "572931ec-e7e4-4647-bbac-c7b2608659b6",
   "metadata": {},
   "outputs": [],
   "source": [
    "import pandas as pd\n",
    "course_name = ['Data Science', 'Machine Learning', 'Big Data', 'Data Engineer']\n",
    "duration = [2,3,6,4]\n",
    "df = pd.DataFrame(data = {'course_name' : course_name, 'duration' : duration})"
   ]
  },
  {
   "cell_type": "code",
   "execution_count": 2,
   "id": "ab0f0017-45aa-4f02-93ad-3b4d68a4705e",
   "metadata": {},
   "outputs": [
    {
     "data": {
      "text/html": [
       "<div>\n",
       "<style scoped>\n",
       "    .dataframe tbody tr th:only-of-type {\n",
       "        vertical-align: middle;\n",
       "    }\n",
       "\n",
       "    .dataframe tbody tr th {\n",
       "        vertical-align: top;\n",
       "    }\n",
       "\n",
       "    .dataframe thead th {\n",
       "        text-align: right;\n",
       "    }\n",
       "</style>\n",
       "<table border=\"1\" class=\"dataframe\">\n",
       "  <thead>\n",
       "    <tr style=\"text-align: right;\">\n",
       "      <th></th>\n",
       "      <th>course_name</th>\n",
       "      <th>duration</th>\n",
       "    </tr>\n",
       "  </thead>\n",
       "  <tbody>\n",
       "    <tr>\n",
       "      <th>0</th>\n",
       "      <td>Data Science</td>\n",
       "      <td>2</td>\n",
       "    </tr>\n",
       "    <tr>\n",
       "      <th>1</th>\n",
       "      <td>Machine Learning</td>\n",
       "      <td>3</td>\n",
       "    </tr>\n",
       "    <tr>\n",
       "      <th>2</th>\n",
       "      <td>Big Data</td>\n",
       "      <td>6</td>\n",
       "    </tr>\n",
       "    <tr>\n",
       "      <th>3</th>\n",
       "      <td>Data Engineer</td>\n",
       "      <td>4</td>\n",
       "    </tr>\n",
       "  </tbody>\n",
       "</table>\n",
       "</div>"
      ],
      "text/plain": [
       "        course_name  duration\n",
       "0      Data Science         2\n",
       "1  Machine Learning         3\n",
       "2          Big Data         6\n",
       "3     Data Engineer         4"
      ]
     },
     "execution_count": 2,
     "metadata": {},
     "output_type": "execute_result"
    }
   ],
   "source": [
    "df"
   ]
  },
  {
   "cell_type": "code",
   "execution_count": 3,
   "id": "9e47a4b5-1c77-4a20-9772-3f25d31a59d1",
   "metadata": {},
   "outputs": [
    {
     "data": {
      "text/html": [
       "<div>\n",
       "<style scoped>\n",
       "    .dataframe tbody tr th:only-of-type {\n",
       "        vertical-align: middle;\n",
       "    }\n",
       "\n",
       "    .dataframe tbody tr th {\n",
       "        vertical-align: top;\n",
       "    }\n",
       "\n",
       "    .dataframe thead th {\n",
       "        text-align: right;\n",
       "    }\n",
       "</style>\n",
       "<table border=\"1\" class=\"dataframe\">\n",
       "  <thead>\n",
       "    <tr style=\"text-align: right;\">\n",
       "      <th></th>\n",
       "      <th>course_name</th>\n",
       "      <th>duration</th>\n",
       "    </tr>\n",
       "  </thead>\n",
       "  <tbody>\n",
       "    <tr>\n",
       "      <th>1</th>\n",
       "      <td>Machine Learning</td>\n",
       "      <td>3</td>\n",
       "    </tr>\n",
       "  </tbody>\n",
       "</table>\n",
       "</div>"
      ],
      "text/plain": [
       "        course_name  duration\n",
       "1  Machine Learning         3"
      ]
     },
     "execution_count": 3,
     "metadata": {},
     "output_type": "execute_result"
    }
   ],
   "source": [
    "#Q.1\n",
    "df[['course_name','duration']][1:2]"
   ]
  },
  {
   "cell_type": "code",
   "execution_count": 4,
   "id": "f29c5643-dfdb-4e4c-8e86-72bb9d2edcfe",
   "metadata": {},
   "outputs": [
    {
     "ename": "SyntaxError",
     "evalue": "invalid syntax (1311838116.py, line 2)",
     "output_type": "error",
     "traceback": [
      "\u001b[0;36m  Cell \u001b[0;32mIn[4], line 2\u001b[0;36m\u001b[0m\n\u001b[0;31m    Loc and iloc are two functions in Pandas that are used to slice a data set in a Pandas DataFrame.\u001b[0m\n\u001b[0m                 ^\u001b[0m\n\u001b[0;31mSyntaxError\u001b[0m\u001b[0;31m:\u001b[0m invalid syntax\n"
     ]
    }
   ],
   "source": [
    "#Q.2\n",
    "Loc and iloc are two functions in Pandas that are used to slice a data set in a Pandas DataFrame.\n",
    "The function . loc is typically used for label indexing and can access multiple columns, while .\n",
    "iloc is used for integer indexing."
   ]
  },
  {
   "cell_type": "code",
   "execution_count": 5,
   "id": "dc793c63-76d3-40b7-8645-288c30431c8b",
   "metadata": {},
   "outputs": [],
   "source": [
    "#Q.3\n",
    "import pandas as pd\n",
    "import numpy as np\n",
    "columns = ['column_1', 'column_2', 'column_3', 'column_4', 'column_5', 'column_6']\n",
    "indices = [1,2,3,4,5,6]\n",
    "df1 = pd.DataFrame(np.random.rand(6,6), columns = columns, index = indices)"
   ]
  },
  {
   "cell_type": "code",
   "execution_count": 6,
   "id": "20a19eea-ad91-4603-9c99-55eeb813ffe0",
   "metadata": {},
   "outputs": [
    {
     "data": {
      "text/html": [
       "<div>\n",
       "<style scoped>\n",
       "    .dataframe tbody tr th:only-of-type {\n",
       "        vertical-align: middle;\n",
       "    }\n",
       "\n",
       "    .dataframe tbody tr th {\n",
       "        vertical-align: top;\n",
       "    }\n",
       "\n",
       "    .dataframe thead th {\n",
       "        text-align: right;\n",
       "    }\n",
       "</style>\n",
       "<table border=\"1\" class=\"dataframe\">\n",
       "  <thead>\n",
       "    <tr style=\"text-align: right;\">\n",
       "      <th></th>\n",
       "      <th>column_1</th>\n",
       "      <th>column_2</th>\n",
       "      <th>column_3</th>\n",
       "      <th>column_4</th>\n",
       "      <th>column_5</th>\n",
       "      <th>column_6</th>\n",
       "    </tr>\n",
       "  </thead>\n",
       "  <tbody>\n",
       "    <tr>\n",
       "      <th>1</th>\n",
       "      <td>0.351039</td>\n",
       "      <td>0.046375</td>\n",
       "      <td>0.835507</td>\n",
       "      <td>0.103782</td>\n",
       "      <td>0.298676</td>\n",
       "      <td>0.307678</td>\n",
       "    </tr>\n",
       "    <tr>\n",
       "      <th>2</th>\n",
       "      <td>0.062399</td>\n",
       "      <td>0.971495</td>\n",
       "      <td>0.214441</td>\n",
       "      <td>0.911892</td>\n",
       "      <td>0.448876</td>\n",
       "      <td>0.637067</td>\n",
       "    </tr>\n",
       "    <tr>\n",
       "      <th>3</th>\n",
       "      <td>0.731571</td>\n",
       "      <td>0.833904</td>\n",
       "      <td>0.660984</td>\n",
       "      <td>0.191369</td>\n",
       "      <td>0.387313</td>\n",
       "      <td>0.616620</td>\n",
       "    </tr>\n",
       "    <tr>\n",
       "      <th>4</th>\n",
       "      <td>0.939659</td>\n",
       "      <td>0.456801</td>\n",
       "      <td>0.155038</td>\n",
       "      <td>0.657387</td>\n",
       "      <td>0.532181</td>\n",
       "      <td>0.441956</td>\n",
       "    </tr>\n",
       "    <tr>\n",
       "      <th>5</th>\n",
       "      <td>0.024567</td>\n",
       "      <td>0.840302</td>\n",
       "      <td>0.685590</td>\n",
       "      <td>0.536992</td>\n",
       "      <td>0.092463</td>\n",
       "      <td>0.123677</td>\n",
       "    </tr>\n",
       "    <tr>\n",
       "      <th>6</th>\n",
       "      <td>0.399127</td>\n",
       "      <td>0.597885</td>\n",
       "      <td>0.080367</td>\n",
       "      <td>0.303795</td>\n",
       "      <td>0.756368</td>\n",
       "      <td>0.696028</td>\n",
       "    </tr>\n",
       "  </tbody>\n",
       "</table>\n",
       "</div>"
      ],
      "text/plain": [
       "   column_1  column_2  column_3  column_4  column_5  column_6\n",
       "1  0.351039  0.046375  0.835507  0.103782  0.298676  0.307678\n",
       "2  0.062399  0.971495  0.214441  0.911892  0.448876  0.637067\n",
       "3  0.731571  0.833904  0.660984  0.191369  0.387313  0.616620\n",
       "4  0.939659  0.456801  0.155038  0.657387  0.532181  0.441956\n",
       "5  0.024567  0.840302  0.685590  0.536992  0.092463  0.123677\n",
       "6  0.399127  0.597885  0.080367  0.303795  0.756368  0.696028"
      ]
     },
     "execution_count": 6,
     "metadata": {},
     "output_type": "execute_result"
    }
   ],
   "source": [
    "df1"
   ]
  },
  {
   "cell_type": "code",
   "execution_count": 7,
   "id": "b1fa83d5-6eaa-4b50-9a9e-6843d89d739d",
   "metadata": {},
   "outputs": [],
   "source": [
    "new_df = df1.reindex([3,0,1,2])"
   ]
  },
  {
   "cell_type": "code",
   "execution_count": 8,
   "id": "5bbc1294-8e64-4ad9-9751-7ff2681c7b53",
   "metadata": {},
   "outputs": [
    {
     "data": {
      "text/html": [
       "<div>\n",
       "<style scoped>\n",
       "    .dataframe tbody tr th:only-of-type {\n",
       "        vertical-align: middle;\n",
       "    }\n",
       "\n",
       "    .dataframe tbody tr th {\n",
       "        vertical-align: top;\n",
       "    }\n",
       "\n",
       "    .dataframe thead th {\n",
       "        text-align: right;\n",
       "    }\n",
       "</style>\n",
       "<table border=\"1\" class=\"dataframe\">\n",
       "  <thead>\n",
       "    <tr style=\"text-align: right;\">\n",
       "      <th></th>\n",
       "      <th>column_1</th>\n",
       "      <th>column_2</th>\n",
       "      <th>column_3</th>\n",
       "      <th>column_4</th>\n",
       "      <th>column_5</th>\n",
       "      <th>column_6</th>\n",
       "    </tr>\n",
       "  </thead>\n",
       "  <tbody>\n",
       "    <tr>\n",
       "      <th>3</th>\n",
       "      <td>0.731571</td>\n",
       "      <td>0.833904</td>\n",
       "      <td>0.660984</td>\n",
       "      <td>0.191369</td>\n",
       "      <td>0.387313</td>\n",
       "      <td>0.616620</td>\n",
       "    </tr>\n",
       "    <tr>\n",
       "      <th>0</th>\n",
       "      <td>NaN</td>\n",
       "      <td>NaN</td>\n",
       "      <td>NaN</td>\n",
       "      <td>NaN</td>\n",
       "      <td>NaN</td>\n",
       "      <td>NaN</td>\n",
       "    </tr>\n",
       "    <tr>\n",
       "      <th>1</th>\n",
       "      <td>0.351039</td>\n",
       "      <td>0.046375</td>\n",
       "      <td>0.835507</td>\n",
       "      <td>0.103782</td>\n",
       "      <td>0.298676</td>\n",
       "      <td>0.307678</td>\n",
       "    </tr>\n",
       "    <tr>\n",
       "      <th>2</th>\n",
       "      <td>0.062399</td>\n",
       "      <td>0.971495</td>\n",
       "      <td>0.214441</td>\n",
       "      <td>0.911892</td>\n",
       "      <td>0.448876</td>\n",
       "      <td>0.637067</td>\n",
       "    </tr>\n",
       "  </tbody>\n",
       "</table>\n",
       "</div>"
      ],
      "text/plain": [
       "   column_1  column_2  column_3  column_4  column_5  column_6\n",
       "3  0.731571  0.833904  0.660984  0.191369  0.387313  0.616620\n",
       "0       NaN       NaN       NaN       NaN       NaN       NaN\n",
       "1  0.351039  0.046375  0.835507  0.103782  0.298676  0.307678\n",
       "2  0.062399  0.971495  0.214441  0.911892  0.448876  0.637067"
      ]
     },
     "execution_count": 8,
     "metadata": {},
     "output_type": "execute_result"
    }
   ],
   "source": [
    "new_df"
   ]
  },
  {
   "cell_type": "code",
   "execution_count": 9,
   "id": "ecc6c180-6814-49c2-ac17-8f170d04c771",
   "metadata": {},
   "outputs": [
    {
     "data": {
      "text/plain": [
       "column_1    0.062399\n",
       "column_2    0.971495\n",
       "column_3    0.214441\n",
       "column_4    0.911892\n",
       "column_5    0.448876\n",
       "column_6    0.637067\n",
       "Name: 2, dtype: float64"
      ]
     },
     "execution_count": 9,
     "metadata": {},
     "output_type": "execute_result"
    }
   ],
   "source": [
    "new_df.loc[2]"
   ]
  },
  {
   "cell_type": "code",
   "execution_count": 10,
   "id": "4cbf0456-4adc-4166-8791-acd69b97b55e",
   "metadata": {},
   "outputs": [
    {
     "data": {
      "text/plain": [
       "column_1    0.351039\n",
       "column_2    0.046375\n",
       "column_3    0.835507\n",
       "column_4    0.103782\n",
       "column_5    0.298676\n",
       "column_6    0.307678\n",
       "Name: 1, dtype: float64"
      ]
     },
     "execution_count": 10,
     "metadata": {},
     "output_type": "execute_result"
    }
   ],
   "source": [
    "new_df.iloc[2]"
   ]
  },
  {
   "cell_type": "code",
   "execution_count": 11,
   "id": "e3c4e9b2-08e3-45f9-a704-33bc2af08d41",
   "metadata": {},
   "outputs": [
    {
     "data": {
      "text/html": [
       "<div>\n",
       "<style scoped>\n",
       "    .dataframe tbody tr th:only-of-type {\n",
       "        vertical-align: middle;\n",
       "    }\n",
       "\n",
       "    .dataframe tbody tr th {\n",
       "        vertical-align: top;\n",
       "    }\n",
       "\n",
       "    .dataframe thead th {\n",
       "        text-align: right;\n",
       "    }\n",
       "</style>\n",
       "<table border=\"1\" class=\"dataframe\">\n",
       "  <thead>\n",
       "    <tr style=\"text-align: right;\">\n",
       "      <th></th>\n",
       "      <th>column_1</th>\n",
       "      <th>column_2</th>\n",
       "      <th>column_3</th>\n",
       "      <th>column_4</th>\n",
       "      <th>column_5</th>\n",
       "      <th>column_6</th>\n",
       "    </tr>\n",
       "  </thead>\n",
       "  <tbody>\n",
       "    <tr>\n",
       "      <th>1</th>\n",
       "      <td>0.351039</td>\n",
       "      <td>0.046375</td>\n",
       "      <td>0.835507</td>\n",
       "      <td>0.103782</td>\n",
       "      <td>0.298676</td>\n",
       "      <td>0.307678</td>\n",
       "    </tr>\n",
       "    <tr>\n",
       "      <th>2</th>\n",
       "      <td>0.062399</td>\n",
       "      <td>0.971495</td>\n",
       "      <td>0.214441</td>\n",
       "      <td>0.911892</td>\n",
       "      <td>0.448876</td>\n",
       "      <td>0.637067</td>\n",
       "    </tr>\n",
       "    <tr>\n",
       "      <th>3</th>\n",
       "      <td>0.731571</td>\n",
       "      <td>0.833904</td>\n",
       "      <td>0.660984</td>\n",
       "      <td>0.191369</td>\n",
       "      <td>0.387313</td>\n",
       "      <td>0.616620</td>\n",
       "    </tr>\n",
       "    <tr>\n",
       "      <th>4</th>\n",
       "      <td>0.939659</td>\n",
       "      <td>0.456801</td>\n",
       "      <td>0.155038</td>\n",
       "      <td>0.657387</td>\n",
       "      <td>0.532181</td>\n",
       "      <td>0.441956</td>\n",
       "    </tr>\n",
       "    <tr>\n",
       "      <th>5</th>\n",
       "      <td>0.024567</td>\n",
       "      <td>0.840302</td>\n",
       "      <td>0.685590</td>\n",
       "      <td>0.536992</td>\n",
       "      <td>0.092463</td>\n",
       "      <td>0.123677</td>\n",
       "    </tr>\n",
       "    <tr>\n",
       "      <th>6</th>\n",
       "      <td>0.399127</td>\n",
       "      <td>0.597885</td>\n",
       "      <td>0.080367</td>\n",
       "      <td>0.303795</td>\n",
       "      <td>0.756368</td>\n",
       "      <td>0.696028</td>\n",
       "    </tr>\n",
       "  </tbody>\n",
       "</table>\n",
       "</div>"
      ],
      "text/plain": [
       "   column_1  column_2  column_3  column_4  column_5  column_6\n",
       "1  0.351039  0.046375  0.835507  0.103782  0.298676  0.307678\n",
       "2  0.062399  0.971495  0.214441  0.911892  0.448876  0.637067\n",
       "3  0.731571  0.833904  0.660984  0.191369  0.387313  0.616620\n",
       "4  0.939659  0.456801  0.155038  0.657387  0.532181  0.441956\n",
       "5  0.024567  0.840302  0.685590  0.536992  0.092463  0.123677\n",
       "6  0.399127  0.597885  0.080367  0.303795  0.756368  0.696028"
      ]
     },
     "execution_count": 11,
     "metadata": {},
     "output_type": "execute_result"
    }
   ],
   "source": [
    "#Q.4\n",
    "df1"
   ]
  },
  {
   "cell_type": "code",
   "execution_count": 12,
   "id": "5cf85d5d-e4c9-4a12-ba0d-8c94b9b67c12",
   "metadata": {},
   "outputs": [
    {
     "data": {
      "text/plain": [
       "column_1    0.418060\n",
       "column_2    0.624460\n",
       "column_3    0.438655\n",
       "column_4    0.450869\n",
       "column_5    0.419313\n",
       "column_6    0.470504\n",
       "dtype: float64"
      ]
     },
     "execution_count": 12,
     "metadata": {},
     "output_type": "execute_result"
    }
   ],
   "source": [
    "df1.mean()"
   ]
  },
  {
   "cell_type": "code",
   "execution_count": 13,
   "id": "1235cd9b-45fc-41d5-873a-796b41a081fb",
   "metadata": {},
   "outputs": [
    {
     "data": {
      "text/plain": [
       "column_1    0.362363\n",
       "column_2    0.338788\n",
       "dtype: float64"
      ]
     },
     "execution_count": 13,
     "metadata": {},
     "output_type": "execute_result"
    }
   ],
   "source": [
    "df1[['column_1','column_2']].std()"
   ]
  },
  {
   "cell_type": "code",
   "execution_count": 14,
   "id": "62ee4bdb-b4cd-4042-87a4-1b55d3fe73ab",
   "metadata": {},
   "outputs": [
    {
     "data": {
      "text/html": [
       "<div>\n",
       "<style scoped>\n",
       "    .dataframe tbody tr th:only-of-type {\n",
       "        vertical-align: middle;\n",
       "    }\n",
       "\n",
       "    .dataframe tbody tr th {\n",
       "        vertical-align: top;\n",
       "    }\n",
       "\n",
       "    .dataframe thead th {\n",
       "        text-align: right;\n",
       "    }\n",
       "</style>\n",
       "<table border=\"1\" class=\"dataframe\">\n",
       "  <thead>\n",
       "    <tr style=\"text-align: right;\">\n",
       "      <th></th>\n",
       "      <th>column_1</th>\n",
       "      <th>column_2</th>\n",
       "      <th>column_3</th>\n",
       "      <th>column_4</th>\n",
       "      <th>column_5</th>\n",
       "      <th>column_6</th>\n",
       "    </tr>\n",
       "  </thead>\n",
       "  <tbody>\n",
       "    <tr>\n",
       "      <th>1</th>\n",
       "      <td>0.351039</td>\n",
       "      <td>0.046375</td>\n",
       "      <td>0.835507</td>\n",
       "      <td>0.103782</td>\n",
       "      <td>0.298676</td>\n",
       "      <td>0.307678</td>\n",
       "    </tr>\n",
       "    <tr>\n",
       "      <th>2</th>\n",
       "      <td>0.062399</td>\n",
       "      <td>0.971495</td>\n",
       "      <td>0.214441</td>\n",
       "      <td>0.911892</td>\n",
       "      <td>0.448876</td>\n",
       "      <td>0.637067</td>\n",
       "    </tr>\n",
       "    <tr>\n",
       "      <th>3</th>\n",
       "      <td>0.731571</td>\n",
       "      <td>0.833904</td>\n",
       "      <td>0.660984</td>\n",
       "      <td>0.191369</td>\n",
       "      <td>0.387313</td>\n",
       "      <td>0.616620</td>\n",
       "    </tr>\n",
       "    <tr>\n",
       "      <th>4</th>\n",
       "      <td>0.939659</td>\n",
       "      <td>0.456801</td>\n",
       "      <td>0.155038</td>\n",
       "      <td>0.657387</td>\n",
       "      <td>0.532181</td>\n",
       "      <td>0.441956</td>\n",
       "    </tr>\n",
       "    <tr>\n",
       "      <th>5</th>\n",
       "      <td>0.024567</td>\n",
       "      <td>0.840302</td>\n",
       "      <td>0.685590</td>\n",
       "      <td>0.536992</td>\n",
       "      <td>0.092463</td>\n",
       "      <td>0.123677</td>\n",
       "    </tr>\n",
       "    <tr>\n",
       "      <th>6</th>\n",
       "      <td>0.399127</td>\n",
       "      <td>0.597885</td>\n",
       "      <td>0.080367</td>\n",
       "      <td>0.303795</td>\n",
       "      <td>0.756368</td>\n",
       "      <td>0.696028</td>\n",
       "    </tr>\n",
       "  </tbody>\n",
       "</table>\n",
       "</div>"
      ],
      "text/plain": [
       "   column_1  column_2  column_3  column_4  column_5  column_6\n",
       "1  0.351039  0.046375  0.835507  0.103782  0.298676  0.307678\n",
       "2  0.062399  0.971495  0.214441  0.911892  0.448876  0.637067\n",
       "3  0.731571  0.833904  0.660984  0.191369  0.387313  0.616620\n",
       "4  0.939659  0.456801  0.155038  0.657387  0.532181  0.441956\n",
       "5  0.024567  0.840302  0.685590  0.536992  0.092463  0.123677\n",
       "6  0.399127  0.597885  0.080367  0.303795  0.756368  0.696028"
      ]
     },
     "execution_count": 14,
     "metadata": {},
     "output_type": "execute_result"
    }
   ],
   "source": [
    "#Q.5\n",
    "df1"
   ]
  },
  {
   "cell_type": "code",
   "execution_count": 15,
   "id": "18d313d9-54d4-4c54-8b07-5abdd762f474",
   "metadata": {},
   "outputs": [],
   "source": [
    "df1.loc[df1[\"column_1\"] == \"0.134064\", \"0.970964\"] = 'umesh'"
   ]
  },
  {
   "cell_type": "code",
   "execution_count": 16,
   "id": "ada4c94f-a1b8-4fcf-8c62-9e87d3a7ab34",
   "metadata": {},
   "outputs": [
    {
     "data": {
      "text/html": [
       "<div>\n",
       "<style scoped>\n",
       "    .dataframe tbody tr th:only-of-type {\n",
       "        vertical-align: middle;\n",
       "    }\n",
       "\n",
       "    .dataframe tbody tr th {\n",
       "        vertical-align: top;\n",
       "    }\n",
       "\n",
       "    .dataframe thead th {\n",
       "        text-align: right;\n",
       "    }\n",
       "</style>\n",
       "<table border=\"1\" class=\"dataframe\">\n",
       "  <thead>\n",
       "    <tr style=\"text-align: right;\">\n",
       "      <th></th>\n",
       "      <th>column_1</th>\n",
       "      <th>column_2</th>\n",
       "      <th>column_3</th>\n",
       "      <th>column_4</th>\n",
       "      <th>column_5</th>\n",
       "      <th>column_6</th>\n",
       "      <th>0.970964</th>\n",
       "    </tr>\n",
       "  </thead>\n",
       "  <tbody>\n",
       "    <tr>\n",
       "      <th>1</th>\n",
       "      <td>0.351039</td>\n",
       "      <td>0.046375</td>\n",
       "      <td>0.835507</td>\n",
       "      <td>0.103782</td>\n",
       "      <td>0.298676</td>\n",
       "      <td>0.307678</td>\n",
       "      <td>NaN</td>\n",
       "    </tr>\n",
       "    <tr>\n",
       "      <th>2</th>\n",
       "      <td>0.062399</td>\n",
       "      <td>0.971495</td>\n",
       "      <td>0.214441</td>\n",
       "      <td>0.911892</td>\n",
       "      <td>0.448876</td>\n",
       "      <td>0.637067</td>\n",
       "      <td>NaN</td>\n",
       "    </tr>\n",
       "    <tr>\n",
       "      <th>3</th>\n",
       "      <td>0.731571</td>\n",
       "      <td>0.833904</td>\n",
       "      <td>0.660984</td>\n",
       "      <td>0.191369</td>\n",
       "      <td>0.387313</td>\n",
       "      <td>0.616620</td>\n",
       "      <td>NaN</td>\n",
       "    </tr>\n",
       "    <tr>\n",
       "      <th>4</th>\n",
       "      <td>0.939659</td>\n",
       "      <td>0.456801</td>\n",
       "      <td>0.155038</td>\n",
       "      <td>0.657387</td>\n",
       "      <td>0.532181</td>\n",
       "      <td>0.441956</td>\n",
       "      <td>NaN</td>\n",
       "    </tr>\n",
       "    <tr>\n",
       "      <th>5</th>\n",
       "      <td>0.024567</td>\n",
       "      <td>0.840302</td>\n",
       "      <td>0.685590</td>\n",
       "      <td>0.536992</td>\n",
       "      <td>0.092463</td>\n",
       "      <td>0.123677</td>\n",
       "      <td>NaN</td>\n",
       "    </tr>\n",
       "    <tr>\n",
       "      <th>6</th>\n",
       "      <td>0.399127</td>\n",
       "      <td>0.597885</td>\n",
       "      <td>0.080367</td>\n",
       "      <td>0.303795</td>\n",
       "      <td>0.756368</td>\n",
       "      <td>0.696028</td>\n",
       "      <td>NaN</td>\n",
       "    </tr>\n",
       "  </tbody>\n",
       "</table>\n",
       "</div>"
      ],
      "text/plain": [
       "   column_1  column_2  column_3  column_4  column_5  column_6 0.970964\n",
       "1  0.351039  0.046375  0.835507  0.103782  0.298676  0.307678      NaN\n",
       "2  0.062399  0.971495  0.214441  0.911892  0.448876  0.637067      NaN\n",
       "3  0.731571  0.833904  0.660984  0.191369  0.387313  0.616620      NaN\n",
       "4  0.939659  0.456801  0.155038  0.657387  0.532181  0.441956      NaN\n",
       "5  0.024567  0.840302  0.685590  0.536992  0.092463  0.123677      NaN\n",
       "6  0.399127  0.597885  0.080367  0.303795  0.756368  0.696028      NaN"
      ]
     },
     "execution_count": 16,
     "metadata": {},
     "output_type": "execute_result"
    }
   ],
   "source": [
    "df1"
   ]
  },
  {
   "cell_type": "code",
   "execution_count": 17,
   "id": "158e553e-3009-47da-a38e-0806b971e406",
   "metadata": {},
   "outputs": [
    {
     "ename": "SyntaxError",
     "evalue": "invalid syntax (2668184258.py, line 2)",
     "output_type": "error",
     "traceback": [
      "\u001b[0;36m  Cell \u001b[0;32mIn[17], line 2\u001b[0;36m\u001b[0m\n\u001b[0;31m    Windows function in Pandas can be broadly divided into three categories namely- Aggregate, Ranking, and Value.\u001b[0m\n\u001b[0m            ^\u001b[0m\n\u001b[0;31mSyntaxError\u001b[0m\u001b[0;31m:\u001b[0m invalid syntax\n"
     ]
    }
   ],
   "source": [
    "#Q.6\n",
    "Windows function in Pandas can be broadly divided into three categories namely- Aggregate, Ranking, and Value.\n",
    "The group by aggregate function can be used to partition and group the entire data frame by some column.\n",
    "We can specify the column name in the parameter of the pandas."
   ]
  },
  {
   "cell_type": "code",
   "execution_count": 18,
   "id": "d5332961-82ff-4c84-8c95-cd070bff1357",
   "metadata": {},
   "outputs": [],
   "source": [
    "#Q.7\n",
    "df2 = pd.DataFrame({\"date\":['2023-04-26','2023-04-25','2023-06-26']})"
   ]
  },
  {
   "cell_type": "code",
   "execution_count": 19,
   "id": "a08a0881-d712-4ac3-ae8d-176929c5ee6d",
   "metadata": {},
   "outputs": [
    {
     "data": {
      "text/html": [
       "<div>\n",
       "<style scoped>\n",
       "    .dataframe tbody tr th:only-of-type {\n",
       "        vertical-align: middle;\n",
       "    }\n",
       "\n",
       "    .dataframe tbody tr th {\n",
       "        vertical-align: top;\n",
       "    }\n",
       "\n",
       "    .dataframe thead th {\n",
       "        text-align: right;\n",
       "    }\n",
       "</style>\n",
       "<table border=\"1\" class=\"dataframe\">\n",
       "  <thead>\n",
       "    <tr style=\"text-align: right;\">\n",
       "      <th></th>\n",
       "      <th>date</th>\n",
       "    </tr>\n",
       "  </thead>\n",
       "  <tbody>\n",
       "    <tr>\n",
       "      <th>0</th>\n",
       "      <td>2023-04-26</td>\n",
       "    </tr>\n",
       "    <tr>\n",
       "      <th>1</th>\n",
       "      <td>2023-04-25</td>\n",
       "    </tr>\n",
       "    <tr>\n",
       "      <th>2</th>\n",
       "      <td>2023-06-26</td>\n",
       "    </tr>\n",
       "  </tbody>\n",
       "</table>\n",
       "</div>"
      ],
      "text/plain": [
       "         date\n",
       "0  2023-04-26\n",
       "1  2023-04-25\n",
       "2  2023-06-26"
      ]
     },
     "execution_count": 19,
     "metadata": {},
     "output_type": "execute_result"
    }
   ],
   "source": [
    "df2"
   ]
  },
  {
   "cell_type": "code",
   "execution_count": 20,
   "id": "ce502a48-fc3f-4aaf-8372-e688afd56737",
   "metadata": {},
   "outputs": [],
   "source": [
    "df2['current_date'] = pd.to_datetime(df2['date'])"
   ]
  },
  {
   "cell_type": "code",
   "execution_count": 21,
   "id": "b331999e-b102-4a97-98d3-c136b5e6f56b",
   "metadata": {},
   "outputs": [
    {
     "data": {
      "text/html": [
       "<div>\n",
       "<style scoped>\n",
       "    .dataframe tbody tr th:only-of-type {\n",
       "        vertical-align: middle;\n",
       "    }\n",
       "\n",
       "    .dataframe tbody tr th {\n",
       "        vertical-align: top;\n",
       "    }\n",
       "\n",
       "    .dataframe thead th {\n",
       "        text-align: right;\n",
       "    }\n",
       "</style>\n",
       "<table border=\"1\" class=\"dataframe\">\n",
       "  <thead>\n",
       "    <tr style=\"text-align: right;\">\n",
       "      <th></th>\n",
       "      <th>date</th>\n",
       "      <th>current_date</th>\n",
       "    </tr>\n",
       "  </thead>\n",
       "  <tbody>\n",
       "    <tr>\n",
       "      <th>0</th>\n",
       "      <td>2023-04-26</td>\n",
       "      <td>2023-04-26</td>\n",
       "    </tr>\n",
       "    <tr>\n",
       "      <th>1</th>\n",
       "      <td>2023-04-25</td>\n",
       "      <td>2023-04-25</td>\n",
       "    </tr>\n",
       "    <tr>\n",
       "      <th>2</th>\n",
       "      <td>2023-06-26</td>\n",
       "      <td>2023-06-26</td>\n",
       "    </tr>\n",
       "  </tbody>\n",
       "</table>\n",
       "</div>"
      ],
      "text/plain": [
       "         date current_date\n",
       "0  2023-04-26   2023-04-26\n",
       "1  2023-04-25   2023-04-25\n",
       "2  2023-06-26   2023-06-26"
      ]
     },
     "execution_count": 21,
     "metadata": {},
     "output_type": "execute_result"
    }
   ],
   "source": [
    "df2"
   ]
  },
  {
   "cell_type": "code",
   "execution_count": 22,
   "id": "acfd5450-45ce-493c-b329-fd00a60400b8",
   "metadata": {},
   "outputs": [],
   "source": [
    "df2['year'] = df2['current_date'].dt.year"
   ]
  },
  {
   "cell_type": "code",
   "execution_count": 23,
   "id": "2079d1e5-5b19-43ad-bb55-9cf52e8734de",
   "metadata": {},
   "outputs": [
    {
     "data": {
      "text/html": [
       "<div>\n",
       "<style scoped>\n",
       "    .dataframe tbody tr th:only-of-type {\n",
       "        vertical-align: middle;\n",
       "    }\n",
       "\n",
       "    .dataframe tbody tr th {\n",
       "        vertical-align: top;\n",
       "    }\n",
       "\n",
       "    .dataframe thead th {\n",
       "        text-align: right;\n",
       "    }\n",
       "</style>\n",
       "<table border=\"1\" class=\"dataframe\">\n",
       "  <thead>\n",
       "    <tr style=\"text-align: right;\">\n",
       "      <th></th>\n",
       "      <th>date</th>\n",
       "      <th>current_date</th>\n",
       "      <th>year</th>\n",
       "    </tr>\n",
       "  </thead>\n",
       "  <tbody>\n",
       "    <tr>\n",
       "      <th>0</th>\n",
       "      <td>2023-04-26</td>\n",
       "      <td>2023-04-26</td>\n",
       "      <td>2023</td>\n",
       "    </tr>\n",
       "    <tr>\n",
       "      <th>1</th>\n",
       "      <td>2023-04-25</td>\n",
       "      <td>2023-04-25</td>\n",
       "      <td>2023</td>\n",
       "    </tr>\n",
       "    <tr>\n",
       "      <th>2</th>\n",
       "      <td>2023-06-26</td>\n",
       "      <td>2023-06-26</td>\n",
       "      <td>2023</td>\n",
       "    </tr>\n",
       "  </tbody>\n",
       "</table>\n",
       "</div>"
      ],
      "text/plain": [
       "         date current_date  year\n",
       "0  2023-04-26   2023-04-26  2023\n",
       "1  2023-04-25   2023-04-25  2023\n",
       "2  2023-06-26   2023-06-26  2023"
      ]
     },
     "execution_count": 23,
     "metadata": {},
     "output_type": "execute_result"
    }
   ],
   "source": [
    "df2"
   ]
  },
  {
   "cell_type": "code",
   "execution_count": 24,
   "id": "2bd09922-994a-412c-a279-81b89085f509",
   "metadata": {},
   "outputs": [],
   "source": [
    "df2['month'] = df2['current_date'].dt.month"
   ]
  },
  {
   "cell_type": "code",
   "execution_count": 25,
   "id": "4658ee53-cfa8-453b-8dd3-092e80a75e0e",
   "metadata": {},
   "outputs": [
    {
     "data": {
      "text/html": [
       "<div>\n",
       "<style scoped>\n",
       "    .dataframe tbody tr th:only-of-type {\n",
       "        vertical-align: middle;\n",
       "    }\n",
       "\n",
       "    .dataframe tbody tr th {\n",
       "        vertical-align: top;\n",
       "    }\n",
       "\n",
       "    .dataframe thead th {\n",
       "        text-align: right;\n",
       "    }\n",
       "</style>\n",
       "<table border=\"1\" class=\"dataframe\">\n",
       "  <thead>\n",
       "    <tr style=\"text-align: right;\">\n",
       "      <th></th>\n",
       "      <th>date</th>\n",
       "      <th>current_date</th>\n",
       "      <th>year</th>\n",
       "      <th>month</th>\n",
       "    </tr>\n",
       "  </thead>\n",
       "  <tbody>\n",
       "    <tr>\n",
       "      <th>0</th>\n",
       "      <td>2023-04-26</td>\n",
       "      <td>2023-04-26</td>\n",
       "      <td>2023</td>\n",
       "      <td>4</td>\n",
       "    </tr>\n",
       "    <tr>\n",
       "      <th>1</th>\n",
       "      <td>2023-04-25</td>\n",
       "      <td>2023-04-25</td>\n",
       "      <td>2023</td>\n",
       "      <td>4</td>\n",
       "    </tr>\n",
       "    <tr>\n",
       "      <th>2</th>\n",
       "      <td>2023-06-26</td>\n",
       "      <td>2023-06-26</td>\n",
       "      <td>2023</td>\n",
       "      <td>6</td>\n",
       "    </tr>\n",
       "  </tbody>\n",
       "</table>\n",
       "</div>"
      ],
      "text/plain": [
       "         date current_date  year  month\n",
       "0  2023-04-26   2023-04-26  2023      4\n",
       "1  2023-04-25   2023-04-25  2023      4\n",
       "2  2023-06-26   2023-06-26  2023      6"
      ]
     },
     "execution_count": 25,
     "metadata": {},
     "output_type": "execute_result"
    }
   ],
   "source": [
    "df2"
   ]
  },
  {
   "cell_type": "code",
   "execution_count": 26,
   "id": "fce1bb6b-7f6f-4f24-b0e8-3dd874d666ba",
   "metadata": {},
   "outputs": [],
   "source": [
    "#Q.8\n",
    "Date = ['2023-04-5','2023-04-5']"
   ]
  },
  {
   "cell_type": "code",
   "execution_count": 27,
   "id": "b219f9cf-4033-48b0-9013-df1c62d3ceed",
   "metadata": {},
   "outputs": [
    {
     "data": {
      "text/plain": [
       "['2023-04-5', '2023-04-5']"
      ]
     },
     "execution_count": 27,
     "metadata": {},
     "output_type": "execute_result"
    }
   ],
   "source": [
    "Date"
   ]
  },
  {
   "cell_type": "code",
   "execution_count": 28,
   "id": "af5c31f4-cac0-4796-9586-695b02639c81",
   "metadata": {},
   "outputs": [],
   "source": [
    "df3 = pd.DataFrame(Date)"
   ]
  },
  {
   "cell_type": "code",
   "execution_count": 29,
   "id": "98ec564f-533a-4e1e-83f6-4011c9c3135c",
   "metadata": {},
   "outputs": [
    {
     "data": {
      "text/html": [
       "<div>\n",
       "<style scoped>\n",
       "    .dataframe tbody tr th:only-of-type {\n",
       "        vertical-align: middle;\n",
       "    }\n",
       "\n",
       "    .dataframe tbody tr th {\n",
       "        vertical-align: top;\n",
       "    }\n",
       "\n",
       "    .dataframe thead th {\n",
       "        text-align: right;\n",
       "    }\n",
       "</style>\n",
       "<table border=\"1\" class=\"dataframe\">\n",
       "  <thead>\n",
       "    <tr style=\"text-align: right;\">\n",
       "      <th></th>\n",
       "      <th>0</th>\n",
       "    </tr>\n",
       "  </thead>\n",
       "  <tbody>\n",
       "    <tr>\n",
       "      <th>0</th>\n",
       "      <td>2023-04-5</td>\n",
       "    </tr>\n",
       "    <tr>\n",
       "      <th>1</th>\n",
       "      <td>2023-04-5</td>\n",
       "    </tr>\n",
       "  </tbody>\n",
       "</table>\n",
       "</div>"
      ],
      "text/plain": [
       "           0\n",
       "0  2023-04-5\n",
       "1  2023-04-5"
      ]
     },
     "execution_count": 29,
     "metadata": {},
     "output_type": "execute_result"
    }
   ],
   "source": [
    "df3"
   ]
  },
  {
   "cell_type": "code",
   "execution_count": 41,
   "id": "08ee4def-2b81-4d79-ab13-206efceab879",
   "metadata": {},
   "outputs": [],
   "source": [
    "bd =  pd.Timedelta(days = 1, hours = 5,minutes = 45)"
   ]
  },
  {
   "cell_type": "code",
   "execution_count": 45,
   "id": "b5434a65-a27d-4f09-a060-05213af7ab0c",
   "metadata": {},
   "outputs": [],
   "source": [
    "dt = pd.to_datetime(Date)"
   ]
  },
  {
   "cell_type": "code",
   "execution_count": 46,
   "id": "dd8e3957-5ca6-4158-9758-3237b3fd66d4",
   "metadata": {},
   "outputs": [
    {
     "data": {
      "text/plain": [
       "Timedelta('1 days 05:45:00')"
      ]
     },
     "execution_count": 46,
     "metadata": {},
     "output_type": "execute_result"
    }
   ],
   "source": [
    "bd"
   ]
  },
  {
   "cell_type": "code",
   "execution_count": 47,
   "id": "951c67c4-88b0-43f9-a2c9-0273159641e5",
   "metadata": {},
   "outputs": [
    {
     "data": {
      "text/plain": [
       "DatetimeIndex(['2023-04-05', '2023-04-05'], dtype='datetime64[ns]', freq=None)"
      ]
     },
     "execution_count": 47,
     "metadata": {},
     "output_type": "execute_result"
    }
   ],
   "source": [
    "dt"
   ]
  },
  {
   "cell_type": "code",
   "execution_count": 48,
   "id": "fcd27359-4bf5-4149-83af-3eb40e36dc2e",
   "metadata": {},
   "outputs": [
    {
     "data": {
      "text/plain": [
       "DatetimeIndex(['2023-04-06 05:45:00', '2023-04-06 05:45:00'], dtype='datetime64[ns]', freq=None)"
      ]
     },
     "execution_count": 48,
     "metadata": {},
     "output_type": "execute_result"
    }
   ],
   "source": [
    "bd+dt"
   ]
  },
  {
   "cell_type": "code",
   "execution_count": null,
   "id": "2a3d4510-62e3-4c4a-8e96-e4c75a0183a2",
   "metadata": {},
   "outputs": [],
   "source": [
    "#Q.9\n"
   ]
  }
 ],
 "metadata": {
  "kernelspec": {
   "display_name": "Python 3 (ipykernel)",
   "language": "python",
   "name": "python3"
  },
  "language_info": {
   "codemirror_mode": {
    "name": "ipython",
    "version": 3
   },
   "file_extension": ".py",
   "mimetype": "text/x-python",
   "name": "python",
   "nbconvert_exporter": "python",
   "pygments_lexer": "ipython3",
   "version": "3.10.8"
  }
 },
 "nbformat": 4,
 "nbformat_minor": 5
}
